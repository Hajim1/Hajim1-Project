{
 "cells": [
  {
   "cell_type": "code",
   "execution_count": 1,
   "metadata": {},
   "outputs": [],
   "source": [
    "import pandas as pd\n",
    "import matplotlib.pyplot as plt\n",
    "%matplotlib inline\n",
    "import seaborn as sns"
   ]
  },
  {
   "cell_type": "code",
   "execution_count": 2,
   "metadata": {},
   "outputs": [],
   "source": [
    "course = pd.read_excel('DSC_2CourseData_030819.xlsx')\n",
    "demo = pd.read_excel('DSC_1Demographic_030819.xlsx')\n",
    "term = pd.read_excel('DSC_3TermData_030819.xlsx')"
   ]
  },
  {
   "cell_type": "code",
   "execution_count": 3,
   "metadata": {},
   "outputs": [
    {
     "data": {
      "text/plain": [
       "Index(['SubjectID', 'Year Term ID', 'Ps1 Timestat Code', 'Ps1 Ofcl Stat Flag',\n",
       "       'Ps1 Major1 Code', 'Ps1 Major2 Code', 'Ps2 Ofcl Stat Flag',\n",
       "       'Ps2 Major1 Code', 'Ps2 Major2 Code', 'Ps1 Class Code', 'CRN',\n",
       "       'College Code', 'Subject Code', 'Course No', 'Course Discipline Code',\n",
       "       'Parent CRN', 'Parent College Code', 'Parent Subject Code',\n",
       "       'Parent Course No', 'Parent Discipline Code', 'Credit Hrs',\n",
       "       'Repeated Flag', 'Reg Status Desc', 'Grade', 'Grade Value',\n",
       "       'Reported Grade', 'Ps1 Enroll Status Desc', 'Ps1 Withdraw Code',\n",
       "       'Ps1 Withdraw Reason', 'Dorm Area', 'Ps1 Acad Standing Desc'],\n",
       "      dtype='object')"
      ]
     },
     "execution_count": 3,
     "metadata": {},
     "output_type": "execute_result"
    }
   ],
   "source": [
    "course.columns"
   ]
  },
  {
   "cell_type": "code",
   "execution_count": 4,
   "metadata": {},
   "outputs": [
    {
     "data": {
      "text/plain": [
       "Index(['SubjectID', 'Gender', 'Visa Code', 'Visa Desc', 'Citizen Type',\n",
       "       'Citizen Country Code', 'Citizen Country Name', 'First Generation Flag',\n",
       "       '2010 IPEDS Ethnicity Description', '2010 Ethnicity Short Desc',\n",
       "       'Veteran Status Desc', 'Birthdate', 'HS City', 'HS State Prov',\n",
       "       'HS Postal Code', 'HS Country', 'HS Rank', 'HS Size',\n",
       "       'HS Graduation Date', 'SAT Verbal', 'SAT Math', 'SAT Writing',\n",
       "       'SAT Total', 'ACT English', 'ACT Math', 'ACT Soc Science',\n",
       "       'ACT Nat Science', 'ACT Composite', 'B - Type Desc', 'B - Class Year',\n",
       "       'B - Time Status Code', 'B - Degree Code', 'B - Major1 Code',\n",
       "       'B - Major2 Code', 'B - Response Code', 'B - Response Desc',\n",
       "       'B - Response Date', 'B - Action Code', 'B - Action Desc',\n",
       "       'B - Action Date', 'B - Transfer College Code',\n",
       "       'B - Transfer College Name', 'B - Transfer GPA',\n",
       "       'B - Graduated College Name', 'Und Cohort First YT',\n",
       "       'Transfer Year Term', 'Cohort Major1 Disc Code',\n",
       "       'Cohort Major1 Dept Code', 'Cohort Major1 Code',\n",
       "       'Cohort Major2 Disc Code', 'Cohort Major2 Dept Code',\n",
       "       'Cohort Major2 Code', 'Degree Code', 'Degree Class Year',\n",
       "       'Degree Major1 Discipline Code', 'Degree Major1 Dept Code',\n",
       "       'Degree Major1 Code', 'Degree Major2 Discipline Code',\n",
       "       'Degree Major2 Dept Code', 'Degree Major2 Code', 'Degree Minor1 Code',\n",
       "       'Degree Minor2 Code', 'Degree Minor3 Code', 'Clust1 Code',\n",
       "       'Clust1 Dept Code', 'Clust2 Code', 'Clust2 Dept Code',\n",
       "       'Degree Honors Code', 'Degree Award Date', 'Degree Confer Date'],\n",
       "      dtype='object')"
      ]
     },
     "execution_count": 4,
     "metadata": {},
     "output_type": "execute_result"
    }
   ],
   "source": [
    "demo.columns"
   ]
  },
  {
   "cell_type": "code",
   "execution_count": 5,
   "metadata": {},
   "outputs": [
    {
     "data": {
      "text/plain": [
       "Index(['SubjectID', 'Year Term ID', 'Term GPA', 'Term Hrs Earned',\n",
       "       'Term Hrs GPA', 'Term Points Earned', 'Cumul GPA', 'Cumul Hrs Earned',\n",
       "       'Cumul Hrs GPA', 'Cumul Points Earned', 'Term Transfer Hrs'],\n",
       "      dtype='object')"
      ]
     },
     "execution_count": 5,
     "metadata": {},
     "output_type": "execute_result"
    }
   ],
   "source": [
    "term.columns"
   ]
  },
  {
   "cell_type": "code",
   "execution_count": 6,
   "metadata": {},
   "outputs": [],
   "source": [
    "#dropping invalid SubjectID\n",
    "cleanCourse = course.drop(course[course['SubjectID']<0].index)"
   ]
  },
  {
   "cell_type": "code",
   "execution_count": 7,
   "metadata": {},
   "outputs": [],
   "source": [
    "cleanTerm = term.drop(term[term['SubjectID']<0].index)"
   ]
  },
  {
   "cell_type": "code",
   "execution_count": 8,
   "metadata": {},
   "outputs": [],
   "source": [
    "cleanDemo = demo.drop(demo[demo['SubjectID']<0].index)"
   ]
  },
  {
   "cell_type": "code",
   "execution_count": 9,
   "metadata": {},
   "outputs": [],
   "source": [
    "cleanCourse.to_csv('clean course data.csv') "
   ]
  },
  {
   "cell_type": "code",
   "execution_count": 10,
   "metadata": {},
   "outputs": [],
   "source": [
    "cleanTerm.to_csv('clean term data.csv') "
   ]
  },
  {
   "cell_type": "code",
   "execution_count": 11,
   "metadata": {},
   "outputs": [],
   "source": [
    "cleanDemo.to_csv('clean Demo data.csv') "
   ]
  },
  {
   "cell_type": "code",
   "execution_count": 12,
   "metadata": {},
   "outputs": [],
   "source": [
    "#Start Merging\n",
    "term_course_merge = pd.merge(cleanTerm, cleanCourse,on=['SubjectID','Year Term ID'], how='inner')"
   ]
  },
  {
   "cell_type": "code",
   "execution_count": 13,
   "metadata": {},
   "outputs": [],
   "source": [
    "term_course_merge.to_csv('term_course_merge.csv') "
   ]
  },
  {
   "cell_type": "code",
   "execution_count": 14,
   "metadata": {},
   "outputs": [
    {
     "data": {
      "text/plain": [
       "20863"
      ]
     },
     "execution_count": 14,
     "metadata": {},
     "output_type": "execute_result"
    }
   ],
   "source": [
    "term_course_merge['SubjectID'].nunique()\n",
    "#20963 unique students in this merged data"
   ]
  },
  {
   "cell_type": "code",
   "execution_count": 15,
   "metadata": {},
   "outputs": [],
   "source": [
    "term_demo_merge = pd.merge(cleanTerm, cleanDemo,on=['SubjectID'], how='inner')"
   ]
  },
  {
   "cell_type": "code",
   "execution_count": 16,
   "metadata": {},
   "outputs": [
    {
     "data": {
      "text/plain": [
       "21892"
      ]
     },
     "execution_count": 16,
     "metadata": {},
     "output_type": "execute_result"
    }
   ],
   "source": [
    "term_demo_merge['SubjectID'].nunique()"
   ]
  },
  {
   "cell_type": "code",
   "execution_count": 17,
   "metadata": {},
   "outputs": [],
   "source": [
    "term_demo_merge.to_csv('term_demo_merge.csv') "
   ]
  },
  {
   "cell_type": "code",
   "execution_count": 18,
   "metadata": {},
   "outputs": [],
   "source": [
    "course_demo_merge = pd.merge(cleanCourse, cleanDemo,on=['SubjectID'], how='inner')"
   ]
  },
  {
   "cell_type": "code",
   "execution_count": 19,
   "metadata": {},
   "outputs": [
    {
     "data": {
      "text/plain": [
       "20387"
      ]
     },
     "execution_count": 19,
     "metadata": {},
     "output_type": "execute_result"
    }
   ],
   "source": [
    "course_demo_merge['SubjectID'].nunique()"
   ]
  },
  {
   "cell_type": "code",
   "execution_count": 20,
   "metadata": {},
   "outputs": [],
   "source": [
    "course_demo_merge.to_csv('course_demo_merge.csv') "
   ]
  },
  {
   "cell_type": "code",
   "execution_count": 21,
   "metadata": {},
   "outputs": [],
   "source": [
    "term_demo_course_merge = pd.merge(term_demo_merge, cleanCourse,on=['SubjectID'], how='inner')"
   ]
  },
  {
   "cell_type": "code",
   "execution_count": 22,
   "metadata": {},
   "outputs": [
    {
     "data": {
      "text/plain": [
       "20387"
      ]
     },
     "execution_count": 22,
     "metadata": {},
     "output_type": "execute_result"
    }
   ],
   "source": [
    "term_demo_course_merge['SubjectID'].nunique()"
   ]
  },
  {
   "cell_type": "code",
   "execution_count": 23,
   "metadata": {},
   "outputs": [],
   "source": [
    "term_demo_course_merge.to_csv('term_demo__course_merge.csv') "
   ]
  },
  {
   "cell_type": "code",
   "execution_count": null,
   "metadata": {},
   "outputs": [],
   "source": []
  }
 ],
 "metadata": {
  "kernelspec": {
   "display_name": "Python 3 (anaconda3 2019.03)",
   "language": "python",
   "name": "anaconda3-2019.10"
  },
  "language_info": {
   "codemirror_mode": {
    "name": "ipython",
    "version": 3
   },
   "file_extension": ".py",
   "mimetype": "text/x-python",
   "name": "python",
   "nbconvert_exporter": "python",
   "pygments_lexer": "ipython3",
   "version": "3.7.3"
  }
 },
 "nbformat": 4,
 "nbformat_minor": 2
}
