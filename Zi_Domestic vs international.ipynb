{
 "cells": [
  {
   "cell_type": "code",
   "execution_count": 1,
   "metadata": {},
   "outputs": [],
   "source": [
    "import pandas as pd\n",
    "import matplotlib.pyplot as plt\n",
    "%matplotlib inline\n",
    "import seaborn as sns"
   ]
  },
  {
   "cell_type": "code",
   "execution_count": 2,
   "metadata": {},
   "outputs": [
    {
     "name": "stderr",
     "output_type": "stream",
     "text": [
      "/software/anaconda3/2019.03/lib/python3.7/site-packages/IPython/core/interactiveshell.py:3049: DtypeWarning: Columns (12,13,14) have mixed types. Specify dtype option on import or set low_memory=False.\n",
      "  interactivity=interactivity, compiler=compiler, result=result)\n"
     ]
    }
   ],
   "source": [
    "classified = pd.read_csv('classified_dataframe.csv')"
   ]
  },
  {
   "cell_type": "code",
   "execution_count": 3,
   "metadata": {},
   "outputs": [
    {
     "data": {
      "text/html": [
       "<div>\n",
       "<style scoped>\n",
       "    .dataframe tbody tr th:only-of-type {\n",
       "        vertical-align: middle;\n",
       "    }\n",
       "\n",
       "    .dataframe tbody tr th {\n",
       "        vertical-align: top;\n",
       "    }\n",
       "\n",
       "    .dataframe thead th {\n",
       "        text-align: right;\n",
       "    }\n",
       "</style>\n",
       "<table border=\"1\" class=\"dataframe\">\n",
       "  <thead>\n",
       "    <tr style=\"text-align: right;\">\n",
       "      <th></th>\n",
       "      <th>Unnamed: 0</th>\n",
       "      <th>SubjectID</th>\n",
       "      <th>Year Term ID_x</th>\n",
       "      <th>Term GPA</th>\n",
       "      <th>Cumul GPA</th>\n",
       "      <th>Cumul Hrs Earned</th>\n",
       "      <th>Cumul Hrs GPA</th>\n",
       "      <th>Term Transfer Hrs</th>\n",
       "      <th>Year Term ID_y</th>\n",
       "      <th>Ps1 Timestat Code</th>\n",
       "      <th>...</th>\n",
       "      <th>Ps1 Acad Standing Desc</th>\n",
       "      <th>Gender</th>\n",
       "      <th>Citizen Country Name</th>\n",
       "      <th>HS City</th>\n",
       "      <th>SAT Total</th>\n",
       "      <th>ACT Composite</th>\n",
       "      <th>Degree Award Date</th>\n",
       "      <th>Degree Confer Date</th>\n",
       "      <th>Classification</th>\n",
       "      <th>classification</th>\n",
       "    </tr>\n",
       "  </thead>\n",
       "  <tbody>\n",
       "    <tr>\n",
       "      <th>0</th>\n",
       "      <td>0</td>\n",
       "      <td>172789163</td>\n",
       "      <td>20062.0</td>\n",
       "      <td>0.0</td>\n",
       "      <td>3.07</td>\n",
       "      <td>128.0</td>\n",
       "      <td>128.0</td>\n",
       "      <td>0.0</td>\n",
       "      <td>20062.0</td>\n",
       "      <td>X</td>\n",
       "      <td>...</td>\n",
       "      <td>ACTIVE</td>\n",
       "      <td>M</td>\n",
       "      <td>USA</td>\n",
       "      <td>.</td>\n",
       "      <td>NaN</td>\n",
       "      <td>NaN</td>\n",
       "      <td>5/16/04 0:00</td>\n",
       "      <td>10/5/06 0:00</td>\n",
       "      <td>N</td>\n",
       "      <td>N</td>\n",
       "    </tr>\n",
       "    <tr>\n",
       "      <th>1</th>\n",
       "      <td>1</td>\n",
       "      <td>172846340</td>\n",
       "      <td>20102.0</td>\n",
       "      <td>3.3</td>\n",
       "      <td>2.70</td>\n",
       "      <td>128.0</td>\n",
       "      <td>77.0</td>\n",
       "      <td>26.0</td>\n",
       "      <td>20102.0</td>\n",
       "      <td>P</td>\n",
       "      <td>...</td>\n",
       "      <td>PROBATION</td>\n",
       "      <td>F</td>\n",
       "      <td>USA</td>\n",
       "      <td>Burnt Hills</td>\n",
       "      <td>NaN</td>\n",
       "      <td>NaN</td>\n",
       "      <td>5/16/10 0:00</td>\n",
       "      <td>5/16/10 0:00</td>\n",
       "      <td>N</td>\n",
       "      <td>N</td>\n",
       "    </tr>\n",
       "    <tr>\n",
       "      <th>2</th>\n",
       "      <td>2</td>\n",
       "      <td>172846340</td>\n",
       "      <td>20102.0</td>\n",
       "      <td>3.3</td>\n",
       "      <td>2.70</td>\n",
       "      <td>128.0</td>\n",
       "      <td>77.0</td>\n",
       "      <td>26.0</td>\n",
       "      <td>20102.0</td>\n",
       "      <td>P</td>\n",
       "      <td>...</td>\n",
       "      <td>PROBATION</td>\n",
       "      <td>F</td>\n",
       "      <td>USA</td>\n",
       "      <td>Burnt Hills</td>\n",
       "      <td>NaN</td>\n",
       "      <td>NaN</td>\n",
       "      <td>5/16/10 0:00</td>\n",
       "      <td>5/16/10 0:00</td>\n",
       "      <td>N</td>\n",
       "      <td>N</td>\n",
       "    </tr>\n",
       "    <tr>\n",
       "      <th>3</th>\n",
       "      <td>3</td>\n",
       "      <td>172857770</td>\n",
       "      <td>20162.0</td>\n",
       "      <td>0.0</td>\n",
       "      <td>2.20</td>\n",
       "      <td>128.0</td>\n",
       "      <td>124.0</td>\n",
       "      <td>0.0</td>\n",
       "      <td>20162.0</td>\n",
       "      <td>F</td>\n",
       "      <td>...</td>\n",
       "      <td>ACTIVE</td>\n",
       "      <td>M</td>\n",
       "      <td>USA</td>\n",
       "      <td>Wallingford</td>\n",
       "      <td>NaN</td>\n",
       "      <td>NaN</td>\n",
       "      <td>8/31/16 0:00</td>\n",
       "      <td>12/31/16 0:00</td>\n",
       "      <td>N</td>\n",
       "      <td>N</td>\n",
       "    </tr>\n",
       "    <tr>\n",
       "      <th>4</th>\n",
       "      <td>4</td>\n",
       "      <td>172857770</td>\n",
       "      <td>20171.0</td>\n",
       "      <td>0.0</td>\n",
       "      <td>2.20</td>\n",
       "      <td>132.0</td>\n",
       "      <td>124.0</td>\n",
       "      <td>4.0</td>\n",
       "      <td>20162.0</td>\n",
       "      <td>F</td>\n",
       "      <td>...</td>\n",
       "      <td>ACTIVE</td>\n",
       "      <td>M</td>\n",
       "      <td>USA</td>\n",
       "      <td>Wallingford</td>\n",
       "      <td>NaN</td>\n",
       "      <td>NaN</td>\n",
       "      <td>8/31/16 0:00</td>\n",
       "      <td>12/31/16 0:00</td>\n",
       "      <td>N</td>\n",
       "      <td>N</td>\n",
       "    </tr>\n",
       "  </tbody>\n",
       "</table>\n",
       "<p>5 rows × 30 columns</p>\n",
       "</div>"
      ],
      "text/plain": [
       "   Unnamed: 0  SubjectID  Year Term ID_x  Term GPA  Cumul GPA  \\\n",
       "0           0  172789163         20062.0       0.0       3.07   \n",
       "1           1  172846340         20102.0       3.3       2.70   \n",
       "2           2  172846340         20102.0       3.3       2.70   \n",
       "3           3  172857770         20162.0       0.0       2.20   \n",
       "4           4  172857770         20171.0       0.0       2.20   \n",
       "\n",
       "   Cumul Hrs Earned  Cumul Hrs GPA  Term Transfer Hrs  Year Term ID_y  \\\n",
       "0             128.0          128.0                0.0         20062.0   \n",
       "1             128.0           77.0               26.0         20102.0   \n",
       "2             128.0           77.0               26.0         20102.0   \n",
       "3             128.0          124.0                0.0         20162.0   \n",
       "4             132.0          124.0                4.0         20162.0   \n",
       "\n",
       "  Ps1 Timestat Code  ... Ps1 Acad Standing Desc Gender Citizen Country Name  \\\n",
       "0                 X  ...                 ACTIVE      M                  USA   \n",
       "1                 P  ...              PROBATION      F                  USA   \n",
       "2                 P  ...              PROBATION      F                  USA   \n",
       "3                 F  ...                 ACTIVE      M                  USA   \n",
       "4                 F  ...                 ACTIVE      M                  USA   \n",
       "\n",
       "              HS City SAT Total  ACT Composite Degree Award Date  \\\n",
       "0                   .       NaN            NaN      5/16/04 0:00   \n",
       "1  Burnt Hills              NaN            NaN      5/16/10 0:00   \n",
       "2  Burnt Hills              NaN            NaN      5/16/10 0:00   \n",
       "3  Wallingford              NaN            NaN      8/31/16 0:00   \n",
       "4  Wallingford              NaN            NaN      8/31/16 0:00   \n",
       "\n",
       "  Degree Confer Date Classification classification  \n",
       "0       10/5/06 0:00              N              N  \n",
       "1       5/16/10 0:00              N              N  \n",
       "2       5/16/10 0:00              N              N  \n",
       "3      12/31/16 0:00              N              N  \n",
       "4      12/31/16 0:00              N              N  \n",
       "\n",
       "[5 rows x 30 columns]"
      ]
     },
     "execution_count": 3,
     "metadata": {},
     "output_type": "execute_result"
    }
   ],
   "source": [
    "classified.head()"
   ]
  },
  {
   "cell_type": "code",
   "execution_count": null,
   "metadata": {},
   "outputs": [],
   "source": [
    "normal_grad=[]\n",
    "nine_twelve =[]\n",
    "twelve_more=[]\n",
    "non_grad=[]\n",
    "for ind in classified_students.index:\n",
    "   \n",
    "    if (classified_students.loc[ind, 'classification'] == 'N'):\n",
    "        normal_grad.append(classified_students.loc[ind, 'SubjectID'])\n",
    "    elif (classified_students.loc[ind, 'classification'] == 'NG'):\n",
    "        non_grad.append(classified_students.loc[ind, 'SubjectID'])\n",
    "    elif (classified_students.loc[ind, 'classification'] == 'NT'):\n",
    "        nine_twelve.append(classified_students.loc[ind, 'SubjectID'])\n",
    "    elif (classified_students.loc[ind, 'classification'] == 'TP'):\n",
    "        twelve_more.append(classified_students.loc[ind, 'SubjectID'])"
   ]
  },
  {
   "cell_type": "code",
   "execution_count": 6,
   "metadata": {},
   "outputs": [],
   "source": [
    "domestics_student = classified[classified['Citizen Country Name']== 'USA'].groupby(['SubjectID']).tail(1)"
   ]
  },
  {
   "cell_type": "code",
   "execution_count": 8,
   "metadata": {},
   "outputs": [
    {
     "data": {
      "text/plain": [
       "count    17881.000000\n",
       "mean         3.240829\n",
       "std          0.610689\n",
       "min          0.000000\n",
       "25%          2.980000\n",
       "50%          3.370000\n",
       "75%          3.660000\n",
       "max          4.000000\n",
       "Name: Cumul GPA, dtype: float64"
      ]
     },
     "execution_count": 8,
     "metadata": {},
     "output_type": "execute_result"
    }
   ],
   "source": [
    "domestics_student['Cumul GPA'].describe()"
   ]
  },
  {
   "cell_type": "code",
   "execution_count": 12,
   "metadata": {},
   "outputs": [
    {
     "data": {
      "text/plain": [
       "<matplotlib.axes._subplots.AxesSubplot at 0x2b4d285ca710>"
      ]
     },
     "execution_count": 12,
     "metadata": {},
     "output_type": "execute_result"
    },
    {
     "data": {
      "image/png": "[encoded data removed]",
      "text/plain": [
       "<Figure size 432x288 with 1 Axes>"
      ]
     },
     "metadata": {
      "needs_background": "light"
     },
     "output_type": "display_data"
    }
   ],
   "source": [
    "domestics_student['classification'].hist()"
   ]
  },
  {
   "cell_type": "code",
   "execution_count": 14,
   "metadata": {},
   "outputs": [],
   "source": [
    "international_student = classified[classified['Citizen Country Name']!= 'USA'].groupby(['SubjectID']).tail(1)"
   ]
  },
  {
   "cell_type": "code",
   "execution_count": 15,
   "metadata": {},
   "outputs": [
    {
     "data": {
      "text/plain": [
       "count    2506.000000\n",
       "mean        3.234685\n",
       "std         0.616531\n",
       "min         0.000000\n",
       "25%         2.970000\n",
       "50%         3.370000\n",
       "75%         3.660000\n",
       "max         4.000000\n",
       "Name: Cumul GPA, dtype: float64"
      ]
     },
     "execution_count": 15,
     "metadata": {},
     "output_type": "execute_result"
    }
   ],
   "source": [
    "international_student['Cumul GPA'].describe()"
   ]
  },
  {
   "cell_type": "code",
   "execution_count": 16,
   "metadata": {},
   "outputs": [
    {
     "data": {
      "text/plain": [
       "<matplotlib.axes._subplots.AxesSubplot at 0x2b4d2a67ff28>"
      ]
     },
     "execution_count": 16,
     "metadata": {},
     "output_type": "execute_result"
    },
    {
     "data": {
      "image/png": "[encoded data removed]",
      "text/plain": [
       "<Figure size 432x288 with 1 Axes>"
      ]
     },
     "metadata": {
      "needs_background": "light"
     },
     "output_type": "display_data"
    }
   ],
   "source": [
    "international_student['classification'].hist()"
   ]
  },
  {
   "cell_type": "code",
   "execution_count": 20,
   "metadata": {},
   "outputs": [
    {
     "data": {
      "text/plain": [
       "N     10158\n",
       "NT     5116\n",
       "NG     2374\n",
       "TP      233\n",
       "Name: classification, dtype: int64"
      ]
     },
     "execution_count": 20,
     "metadata": {},
     "output_type": "execute_result"
    }
   ],
   "source": [
    "domestics_student['classification'].value_counts()"
   ]
  },
  {
   "cell_type": "code",
   "execution_count": 22,
   "metadata": {},
   "outputs": [
    {
     "data": {
      "text/plain": [
       "0.5680890330518428"
      ]
     },
     "execution_count": 22,
     "metadata": {},
     "output_type": "execute_result"
    }
   ],
   "source": [
    "10158/(10158+5116+2374+233)\n",
    "#normal grad domestic"
   ]
  },
  {
   "cell_type": "code",
   "execution_count": 24,
   "metadata": {},
   "outputs": [
    {
     "data": {
      "text/plain": [
       "0.28611375202729156"
      ]
     },
     "execution_count": 24,
     "metadata": {},
     "output_type": "execute_result"
    }
   ],
   "source": [
    "5116/(10158+5116+2374+233)\n",
    "#nine-twelve grad\n"
   ]
  },
  {
   "cell_type": "code",
   "execution_count": 26,
   "metadata": {},
   "outputs": [
    {
     "data": {
      "text/plain": [
       "0.13276662379061574"
      ]
     },
     "execution_count": 26,
     "metadata": {},
     "output_type": "execute_result"
    }
   ],
   "source": [
    "2374/(10158+5116+2374+233)\n",
    "#non grad domestic"
   ]
  },
  {
   "cell_type": "code",
   "execution_count": 27,
   "metadata": {},
   "outputs": [
    {
     "data": {
      "text/plain": [
       "0.013030591130249985"
      ]
     },
     "execution_count": 27,
     "metadata": {},
     "output_type": "execute_result"
    }
   ],
   "source": [
    "233/(10158+5116+2374+233)\n",
    "#twelve plus domestic\n"
   ]
  },
  {
   "cell_type": "code",
   "execution_count": 21,
   "metadata": {},
   "outputs": [
    {
     "data": {
      "text/plain": [
       "N     1109\n",
       "NT     940\n",
       "NG     350\n",
       "TP     107\n",
       "Name: classification, dtype: int64"
      ]
     },
     "execution_count": 21,
     "metadata": {},
     "output_type": "execute_result"
    }
   ],
   "source": [
    "international_student['classification'].value_counts()"
   ]
  },
  {
   "cell_type": "code",
   "execution_count": 35,
   "metadata": {},
   "outputs": [
    {
     "data": {
      "text/plain": [
       "2506"
      ]
     },
     "execution_count": 35,
     "metadata": {},
     "output_type": "execute_result"
    }
   ],
   "source": [
    "international_student['classification'].count()"
   ]
  },
  {
   "cell_type": "code",
   "execution_count": 23,
   "metadata": {},
   "outputs": [
    {
     "data": {
      "text/plain": [
       "0.44253790901835593"
      ]
     },
     "execution_count": 23,
     "metadata": {},
     "output_type": "execute_result"
    }
   ],
   "source": [
    "1109/(1109+940+350+107)\n",
    "#normal grad international"
   ]
  },
  {
   "cell_type": "code",
   "execution_count": 25,
   "metadata": {},
   "outputs": [
    {
     "data": {
      "text/plain": [
       "0.3750997605746209"
      ]
     },
     "execution_count": 25,
     "metadata": {},
     "output_type": "execute_result"
    }
   ],
   "source": [
    "940/(1109+940+350+107)\n",
    "#nine-twelve grad international"
   ]
  },
  {
   "cell_type": "code",
   "execution_count": 28,
   "metadata": {},
   "outputs": [
    {
     "data": {
      "text/plain": [
       "0.13966480446927373"
      ]
     },
     "execution_count": 28,
     "metadata": {},
     "output_type": "execute_result"
    }
   ],
   "source": [
    "350/(1109+940+350+107)\n",
    "#non grad international"
   ]
  },
  {
   "cell_type": "code",
   "execution_count": 29,
   "metadata": {},
   "outputs": [
    {
     "data": {
      "text/plain": [
       "0.0426975259377494"
      ]
     },
     "execution_count": 29,
     "metadata": {},
     "output_type": "execute_result"
    }
   ],
   "source": [
    "107/(1109+940+350+107)\n",
    "#twelve + international"
   ]
  },
  {
   "cell_type": "code",
   "execution_count": 36,
   "metadata": {},
   "outputs": [],
   "source": [
    "domestic_vs_inter = [\n",
    "    ['8 semesters', 10158/(17881), 1109/(2506)],\n",
    "    ['9 - 12 semesters', 5116/(17881),940/(2506)],\n",
    "    ['>12 semesters', 233/(17881), 107/(2506)],\n",
    "    ['never graduated', 2374/(17881),350/(2506)]\n",
    "]\n",
    "df_domestic_vs_inter = pd.DataFrame(domestic_vs_inter, columns = ['Graduation','Domestic Students', 'International Students'])"
   ]
  },
  {
   "cell_type": "code",
   "execution_count": 37,
   "metadata": {},
   "outputs": [
    {
     "data": {
      "text/html": [
       "<div>\n",
       "<style scoped>\n",
       "    .dataframe tbody tr th:only-of-type {\n",
       "        vertical-align: middle;\n",
       "    }\n",
       "\n",
       "    .dataframe tbody tr th {\n",
       "        vertical-align: top;\n",
       "    }\n",
       "\n",
       "    .dataframe thead th {\n",
       "        text-align: right;\n",
       "    }\n",
       "</style>\n",
       "<table border=\"1\" class=\"dataframe\">\n",
       "  <thead>\n",
       "    <tr style=\"text-align: right;\">\n",
       "      <th></th>\n",
       "      <th>Graduation</th>\n",
       "      <th>Domestic Students</th>\n",
       "      <th>International Students</th>\n",
       "    </tr>\n",
       "  </thead>\n",
       "  <tbody>\n",
       "    <tr>\n",
       "      <th>0</th>\n",
       "      <td>8 semesters</td>\n",
       "      <td>0.568089</td>\n",
       "      <td>0.442538</td>\n",
       "    </tr>\n",
       "    <tr>\n",
       "      <th>1</th>\n",
       "      <td>9 - 12 semesters</td>\n",
       "      <td>0.286114</td>\n",
       "      <td>0.375100</td>\n",
       "    </tr>\n",
       "    <tr>\n",
       "      <th>2</th>\n",
       "      <td>&gt;12 semesters</td>\n",
       "      <td>0.013031</td>\n",
       "      <td>0.042698</td>\n",
       "    </tr>\n",
       "    <tr>\n",
       "      <th>3</th>\n",
       "      <td>never graduated</td>\n",
       "      <td>0.132767</td>\n",
       "      <td>0.139665</td>\n",
       "    </tr>\n",
       "  </tbody>\n",
       "</table>\n",
       "</div>"
      ],
      "text/plain": [
       "         Graduation  Domestic Students  International Students\n",
       "0       8 semesters           0.568089                0.442538\n",
       "1  9 - 12 semesters           0.286114                0.375100\n",
       "2     >12 semesters           0.013031                0.042698\n",
       "3   never graduated           0.132767                0.139665"
      ]
     },
     "execution_count": 37,
     "metadata": {},
     "output_type": "execute_result"
    }
   ],
   "source": [
    "df_domestic_vs_inter"
   ]
  },
  {
   "cell_type": "code",
   "execution_count": 39,
   "metadata": {},
   "outputs": [
    {
     "data": {
      "text/plain": [
       "<matplotlib.axes._subplots.AxesSubplot at 0x2b4d2abd18d0>"
      ]
     },
     "execution_count": 39,
     "metadata": {},
     "output_type": "execute_result"
    },
    {
     "data": {
      "image/png": "[encoded data removed]",
      "text/plain": [
       "<Figure size 432x288 with 1 Axes>"
      ]
     },
     "metadata": {
      "needs_background": "light"
     },
     "output_type": "display_data"
    }
   ],
   "source": [
    "df_domestic_vs_inter.plot.bar(x='Graduation')"
   ]
  },
  {
   "cell_type": "code",
   "execution_count": null,
   "metadata": {},
   "outputs": [],
   "source": []
  }
 ],
 "metadata": {
  "kernelspec": {
   "display_name": "Python 3 (anaconda3 2019.03)",
   "language": "python",
   "name": "anaconda3-2019.10"
  },
  "language_info": {
   "codemirror_mode": {
    "name": "ipython",
    "version": 3
   },
   "file_extension": ".py",
   "mimetype": "text/x-python",
   "name": "python",
   "nbconvert_exporter": "python",
   "pygments_lexer": "ipython3",
   "version": "3.7.3"
  }
 },
 "nbformat": 4,
 "nbformat_minor": 2
}
